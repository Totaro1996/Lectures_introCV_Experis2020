{
  "nbformat": 4,
  "nbformat_minor": 0,
  "metadata": {
    "kernelspec": {
      "display_name": "Python 3",
      "language": "python",
      "name": "python3"
    },
    "language_info": {
      "codemirror_mode": {
        "name": "ipython",
        "version": 3
      },
      "file_extension": ".py",
      "mimetype": "text/x-python",
      "name": "python",
      "nbconvert_exporter": "python",
      "pygments_lexer": "ipython3",
      "version": "3.6.6"
    },
    "colab": {
      "name": "DL4CV - 1 - Introduction to Keras.ipynb",
      "provenance": [],
      "include_colab_link": true
    },
    "accelerator": "GPU"
  },
  "cells": [
    {
      "cell_type": "markdown",
      "metadata": {
        "id": "view-in-github",
        "colab_type": "text"
      },
      "source": [
        "<a href=\"https://colab.research.google.com/github/matteoalberti/Lectures_introCV_Experis2020/blob/main/DL4CV_1_Introduction_to_Keras.ipynb\" target=\"_parent\"><img src=\"https://colab.research.google.com/assets/colab-badge.svg\" alt=\"Open In Colab\"/></a>"
      ]
    },
    {
      "cell_type": "markdown",
      "metadata": {
        "id": "GtrNqA5b8Oo_"
      },
      "source": [
        "![](images/intro.jpg)"
      ]
    },
    {
      "cell_type": "markdown",
      "metadata": {
        "id": "nAE9kdj48OpB"
      },
      "source": [
        "# **Welcome!**\n",
        "\n",
        "## Introduction to Machine Learning for Computer Vision\n",
        "\n",
        "\n",
        "\n",
        "## **Lecturer :** Matteo Alberti\n",
        "\n",
        "![](data:image/jpeg;base64,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)\n",
        "\n",
        "*Contacts :* https://www.linkedin.com/in/matteo-alberti-170493/\n"
      ]
    },
    {
      "cell_type": "markdown",
      "metadata": {
        "id": "98BdKdAS8OpD"
      },
      "source": [
        "# Summary\n",
        "\n",
        "- <font color=BE3315>**Load Data** </font> \n",
        "\n",
        "- <font color=C24024>**Define HyperParameters** </font> \n",
        "\n",
        "- <font color=E35F2A>**KERAS Models : Sequential vs Functional** </font> \n",
        "\n",
        "- <font color=EF8932>**MLP | Train and Test** </font>\n"
      ]
    },
    {
      "cell_type": "markdown",
      "metadata": {
        "id": "ldPiPlqs8OpD"
      },
      "source": [
        "#### Load Packages"
      ]
    },
    {
      "cell_type": "markdown",
      "metadata": {
        "id": "WlLsuT-Q9xYU"
      },
      "source": [
        "**Allocare resources! GPUs**"
      ]
    },
    {
      "cell_type": "code",
      "metadata": {
        "id": "dOUlnx1N8OpF",
        "outputId": "834d3c25-bf7f-44dd-b399-bcb02ea221d0",
        "colab": {
          "base_uri": "https://localhost:8080/",
          "height": 67
        }
      },
      "source": [
        "import os\n",
        "import pickle\n",
        "import pandas as pd\n",
        "import argparse\n",
        "from random import randint\n",
        "import time\n",
        "import gc\n",
        "import cv2\n",
        "import platform\n",
        "import numpy as np\n",
        "os.environ[\"KERAS_BACKEND\"] = \"tensorflow\"\n",
        "kerasBKED = os.environ[\"KERAS_BACKEND\"] \n",
        "\n",
        "#Visualization\n",
        "import matplotlib.pyplot as plt\n",
        "plt.style.use('seaborn-white')\n",
        "import seaborn as sns\n",
        "sns.set_style(\"white\")\n",
        "\n",
        "#Sklearn ML\n",
        "from sklearn.model_selection import train_test_split\n",
        "from skimage.transform import resize\n",
        "\n",
        "#Keras Imports\n",
        "from keras import backend as K\n",
        "import tensorflow as tf\n",
        "import keras\n",
        "from keras.initializers import he_normal\n",
        "from keras import optimizers\n",
        "from keras.utils import np_utils\n",
        "from keras.callbacks import LearningRateScheduler\n",
        "from keras.models import load_model\n",
        "from keras.layers import Input,add, AveragePooling2D, GlobalAveragePooling2D, Dense, Conv2D, MaxPooling2D, UpSampling2D, BatchNormalization, Activation, Conv2DTranspose\n",
        "from keras.models import Model, Sequential\n",
        "from keras.callbacks import EarlyStopping, ModelCheckpoint, ReduceLROnPlateau, TensorBoard\n",
        "from keras.optimizers import Adam , SGD\n",
        "from keras import optimizers, regularizers\n",
        "from keras.utils import to_categorical\n",
        "from keras.regularizers import l2\n",
        "from keras.preprocessing.image import ImageDataGenerator\n",
        "from keras import layers\n",
        "from tqdm import tqdm_notebook\n",
        "\n",
        "\n",
        "import sklearn.model_selection as model_selection\n",
        "\n",
        "\n",
        "import warnings\n",
        "warnings.filterwarnings(\"ignore\")\n",
        "\n",
        "print('Keras Version : ',keras.__version__)\n",
        "print('TF Version : ',tf.__version__)\n",
        "print('Python Version : ', platform.python_version())"
      ],
      "execution_count": 22,
      "outputs": [
        {
          "output_type": "stream",
          "text": [
            "Keras Version :  2.4.3\n",
            "TF Version :  2.3.0\n",
            "Python Version :  3.6.9\n"
          ],
          "name": "stdout"
        }
      ]
    },
    {
      "cell_type": "markdown",
      "metadata": {
        "id": "XVLyzFG28OpN"
      },
      "source": [
        "### Load Cifar10 dataset\n"
      ]
    },
    {
      "cell_type": "code",
      "metadata": {
        "id": "vgV7Est48OpO",
        "outputId": "e81fa00c-7e24-43ce-9c4d-bbfdabaafe6b",
        "colab": {
          "base_uri": "https://localhost:8080/",
          "height": 67
        }
      },
      "source": [
        "(x_train, y_train), (x_test, y_test) = tf.keras.datasets.cifar10.load_data()\n",
        "\n",
        "print(x_train.shape, y_train.shape, x_test.shape, y_test.shape)"
      ],
      "execution_count": 3,
      "outputs": [
        {
          "output_type": "stream",
          "text": [
            "Downloading data from https://www.cs.toronto.edu/~kriz/cifar-10-python.tar.gz\n",
            "170500096/170498071 [==============================] - 6s 0us/step\n",
            "(50000, 32, 32, 3) (50000, 1) (10000, 32, 32, 3) (10000, 1)\n"
          ],
          "name": "stdout"
        }
      ]
    },
    {
      "cell_type": "markdown",
      "metadata": {
        "id": "cmN_mSv88Op4"
      },
      "source": [
        "##### Split out Data\n",
        "\n",
        "*We don't need it, why? let's see . . .*"
      ]
    },
    {
      "cell_type": "markdown",
      "metadata": {
        "id": "41XZ55FO8Op_"
      },
      "source": [
        "##### Normalize data"
      ]
    },
    {
      "cell_type": "code",
      "metadata": {
        "id": "XPmN0E9l8OqA"
      },
      "source": [
        "#The range for each individual colour is 0-255\n",
        "x_train = x_train.astype('float32')/255 \n",
        "x_test = x_test.astype('float32')/255\n",
        "\n",
        "y_train = np_utils.to_categorical(y_train, 10) # same as tf.keras.utils.to_categorical\n",
        "y_test = np_utils.to_categorical(y_test, 10)"
      ],
      "execution_count": 5,
      "outputs": []
    },
    {
      "cell_type": "markdown",
      "metadata": {
        "id": "QkRRHg4a8OqF"
      },
      "source": [
        "### Define HyperParameters & CNN Architecture\n",
        "   "
      ]
    },
    {
      "cell_type": "code",
      "metadata": {
        "id": "IUp6Hz_M8OqG",
        "outputId": "5605d67a-75b4-447f-d7b0-33d4305d1fe6",
        "colab": {
          "base_uri": "https://localhost:8080/",
          "height": 34
        }
      },
      "source": [
        "#Parameters\n",
        "import sys;import argparse; sys.argv=['']; del sys\n",
        "parser = argparse.ArgumentParser(description=\"CNN\")\n",
        "parser.add_argument('--epochs', default=20, type=int)\n",
        "parser.add_argument('--iter', default=100, type=int)\n",
        "parser.add_argument('--batch_size', default=128, type=int)\n",
        "parser.add_argument('--lr', default=0.001, type=float)\n",
        "\n",
        "parser.add_argument('--height', default=32, type=int)\n",
        "parser.add_argument('--width', default=32, type=int)\n",
        "parser.add_argument('--channel', default=3, type=int)\n",
        "parser.add_argument('--classes', default=10, type=int)\n",
        "\n",
        "args = parser.parse_args()\n",
        "\n",
        "print(args)"
      ],
      "execution_count": 6,
      "outputs": [
        {
          "output_type": "stream",
          "text": [
            "Namespace(batch_size=128, channel=3, classes=10, epochs=20, height=32, iter=100, lr=0.001, width=32)\n"
          ],
          "name": "stdout"
        }
      ]
    },
    {
      "cell_type": "markdown",
      "metadata": {
        "id": "2Sj_0sQ68OqL"
      },
      "source": [
        "## Keras Models: Sequential vs. Functional API"
      ]
    },
    {
      "cell_type": "markdown",
      "metadata": {
        "id": "0RB6Szw38OqM"
      },
      "source": [
        "- The **sequential** API allows you to create models layer-by-layer\n",
        "- The **functional** API allows you to create models that have a lot more flexibility as you can easily define models where layers connect to more than just the previous and next layers"
      ]
    },
    {
      "cell_type": "code",
      "metadata": {
        "id": "_krSl-iU8OqO",
        "outputId": "4ff69c25-111f-4e60-b813-70823b70caa0",
        "colab": {
          "base_uri": "https://localhost:8080/",
          "height": 34
        }
      },
      "source": [
        "x_train = x_train.reshape(x_train.shape[0], 32*32*3)\n",
        "\n",
        "x_test = x_test.reshape(x_test.shape[0], \n",
        "                        x_test.shape[1]*x_test.shape[2]*x_test.shape[3])\n",
        "\n",
        "\n",
        "print(x_train.shape, x_test.shape, y_train.shape, y_test.shape)"
      ],
      "execution_count": 7,
      "outputs": [
        {
          "output_type": "stream",
          "text": [
            "(50000, 3072) (5000, 3072) (50000, 10) (5000, 10)\n"
          ],
          "name": "stdout"
        }
      ]
    },
    {
      "cell_type": "markdown",
      "metadata": {
        "id": "TNFWNd_18OqU"
      },
      "source": [
        "### KERAS SEQUENTIAL API"
      ]
    },
    {
      "cell_type": "code",
      "metadata": {
        "id": "ZEs4eNRt8OqV",
        "outputId": "10d4a98b-7bc6-415e-c82b-7b03cbddd273",
        "colab": {
          "base_uri": "https://localhost:8080/",
          "height": 218
        }
      },
      "source": [
        "# SEQUENTIAL\n",
        "\n",
        "model = Sequential()\n",
        "model.add(Dense(512, activation='relu', \n",
        "                input_shape=(args.height*args.width*args.channel,)))\n",
        "model.add(Dense(10, activation='softmax'))\n",
        "\n",
        "model.compile(loss='categorical_crossentropy', optimizer=SGD(lr=0.001), \n",
        "              metrics=['accuracy'])\n",
        "\n",
        "model.summary()"
      ],
      "execution_count": 8,
      "outputs": [
        {
          "output_type": "stream",
          "text": [
            "Model: \"sequential\"\n",
            "_________________________________________________________________\n",
            "Layer (type)                 Output Shape              Param #   \n",
            "=================================================================\n",
            "dense (Dense)                (None, 512)               1573376   \n",
            "_________________________________________________________________\n",
            "dense_1 (Dense)              (None, 10)                5130      \n",
            "=================================================================\n",
            "Total params: 1,578,506\n",
            "Trainable params: 1,578,506\n",
            "Non-trainable params: 0\n",
            "_________________________________________________________________\n"
          ],
          "name": "stdout"
        }
      ]
    },
    {
      "cell_type": "code",
      "metadata": {
        "id": "KpqNMcpL8Oqa",
        "outputId": "abbafd27-2ef4-4c1b-d049-60b391374691",
        "colab": {
          "base_uri": "https://localhost:8080/",
          "height": 370
        }
      },
      "source": [
        "start = time.time()\n",
        "mlp_baseline = model.fit(x_train, y_train, batch_size=64,epochs=10,verbose=2, validation_split=0.2)\n",
        "end = time.time()\n",
        "print (\"Model took %0.2f seconds to train\"%(end - start))"
      ],
      "execution_count": 9,
      "outputs": [
        {
          "output_type": "stream",
          "text": [
            "Epoch 1/10\n",
            "625/625 - 3s - loss: 2.1476 - accuracy: 0.2222 - val_loss: 2.0454 - val_accuracy: 0.2825\n",
            "Epoch 2/10\n",
            "625/625 - 3s - loss: 1.9967 - accuracy: 0.3003 - val_loss: 1.9626 - val_accuracy: 0.3166\n",
            "Epoch 3/10\n",
            "625/625 - 3s - loss: 1.9340 - accuracy: 0.3271 - val_loss: 1.9177 - val_accuracy: 0.3303\n",
            "Epoch 4/10\n",
            "625/625 - 3s - loss: 1.8934 - accuracy: 0.3451 - val_loss: 1.8924 - val_accuracy: 0.3451\n",
            "Epoch 5/10\n",
            "625/625 - 3s - loss: 1.8639 - accuracy: 0.3553 - val_loss: 1.8655 - val_accuracy: 0.3533\n",
            "Epoch 6/10\n",
            "625/625 - 3s - loss: 1.8409 - accuracy: 0.3649 - val_loss: 1.8480 - val_accuracy: 0.3536\n",
            "Epoch 7/10\n",
            "625/625 - 3s - loss: 1.8215 - accuracy: 0.3722 - val_loss: 1.8318 - val_accuracy: 0.3669\n",
            "Epoch 8/10\n",
            "625/625 - 3s - loss: 1.8055 - accuracy: 0.3795 - val_loss: 1.8195 - val_accuracy: 0.3717\n",
            "Epoch 9/10\n",
            "625/625 - 3s - loss: 1.7914 - accuracy: 0.3830 - val_loss: 1.8108 - val_accuracy: 0.3739\n",
            "Epoch 10/10\n",
            "625/625 - 3s - loss: 1.7785 - accuracy: 0.3896 - val_loss: 1.7958 - val_accuracy: 0.3794\n",
            "Model took 27.84 seconds to train\n"
          ],
          "name": "stdout"
        }
      ]
    },
    {
      "cell_type": "code",
      "metadata": {
        "id": "zhut6mqk-eBi",
        "outputId": "38015cc0-3731-430c-b04f-1996874a8107",
        "colab": {
          "base_uri": "https://localhost:8080/",
          "height": 689
        }
      },
      "source": [
        "mlp_baseline.history"
      ],
      "execution_count": 13,
      "outputs": [
        {
          "output_type": "execute_result",
          "data": {
            "text/plain": [
              "{'accuracy': [0.22220000624656677,\n",
              "  0.3003250062465668,\n",
              "  0.32712501287460327,\n",
              "  0.34505000710487366,\n",
              "  0.35534998774528503,\n",
              "  0.36492499709129333,\n",
              "  0.3721500039100647,\n",
              "  0.37950000166893005,\n",
              "  0.38304999470710754,\n",
              "  0.38964998722076416],\n",
              " 'loss': [2.1475608348846436,\n",
              "  1.9966695308685303,\n",
              "  1.9340342283248901,\n",
              "  1.8933855295181274,\n",
              "  1.863879919052124,\n",
              "  1.8409475088119507,\n",
              "  1.8215253353118896,\n",
              "  1.8055140972137451,\n",
              "  1.791351556777954,\n",
              "  1.7784759998321533],\n",
              " 'val_accuracy': [0.2824999988079071,\n",
              "  0.3165999948978424,\n",
              "  0.3303000032901764,\n",
              "  0.3450999855995178,\n",
              "  0.353300005197525,\n",
              "  0.35359999537467957,\n",
              "  0.3668999969959259,\n",
              "  0.3716999888420105,\n",
              "  0.37389999628067017,\n",
              "  0.37940001487731934],\n",
              " 'val_loss': [2.0453619956970215,\n",
              "  1.962634563446045,\n",
              "  1.917722463607788,\n",
              "  1.892385721206665,\n",
              "  1.8654791116714478,\n",
              "  1.8480056524276733,\n",
              "  1.8317742347717285,\n",
              "  1.8195421695709229,\n",
              "  1.8107837438583374,\n",
              "  1.795793890953064]}"
            ]
          },
          "metadata": {
            "tags": []
          },
          "execution_count": 13
        }
      ]
    },
    {
      "cell_type": "code",
      "metadata": {
        "id": "Su6I8Vbk8Oqe"
      },
      "source": [
        "def plot_model_history(model_history):\n",
        "    fig, axs = plt.subplots(1,2,figsize=(15,5))\n",
        "    # summarize history for accuracy\n",
        "    axs[0].plot(range(1,len(model_history.history['accuracy'])+1),model_history.history['accuracy'])\n",
        "    axs[0].plot(range(1,len(model_history.history['val_accuracy'])+1),model_history.history['val_accuracy'])\n",
        "    axs[0].set_title('Model Accuracy')\n",
        "    axs[0].set_ylabel('Accuracy')\n",
        "    axs[0].set_xlabel('Epoch')\n",
        "    axs[0].set_xticks(np.arange(1,len(model_history.history['accuracy'])+1),len(model_history.history['accuracy'])/10)\n",
        "    axs[0].legend(['train', 'val'], loc='best')\n",
        "    # summarize history for loss\n",
        "    axs[1].plot(range(1,len(model_history.history['loss'])+1),model_history.history['loss'])\n",
        "    axs[1].plot(range(1,len(model_history.history['val_loss'])+1),model_history.history['val_loss'])\n",
        "    axs[1].set_title('Model Loss')\n",
        "    axs[1].set_ylabel('Loss')\n",
        "    axs[1].set_xlabel('Epoch')\n",
        "    axs[1].set_xticks(np.arange(1,len(model_history.history['loss'])+1),len(model_history.history['loss'])/10)\n",
        "    axs[1].legend(['train', 'val'], loc='best')\n",
        "    plt.show()"
      ],
      "execution_count": 16,
      "outputs": []
    },
    {
      "cell_type": "code",
      "metadata": {
        "id": "ONDzITa38Oqh",
        "outputId": "f2d08be5-333e-435f-aee5-a6c1c70f7f16",
        "colab": {
          "base_uri": "https://localhost:8080/",
          "height": 346
        }
      },
      "source": [
        "plot_model_history(mlp_baseline)"
      ],
      "execution_count": 17,
      "outputs": [
        {
          "output_type": "display_data",
          "data": {
            "image/png": "[encoded data removed]",
            "text/plain": [
              "<Figure size 1080x360 with 2 Axes>"
            ]
          },
          "metadata": {
            "tags": []
          }
        }
      ]
    },
    {
      "cell_type": "markdown",
      "metadata": {
        "id": "ji4RmwqX8Oqk"
      },
      "source": [
        "### How appears our training history?\n",
        "\n",
        "![](./images/underfit.png)"
      ]
    },
    {
      "cell_type": "code",
      "metadata": {
        "id": "OJgovIPr8Oql"
      },
      "source": [
        "def save_history(history, result_file):\n",
        "    loss = history.history['loss']\n",
        "    acc = history.history['accuracy']\n",
        "    val_loss = history.history['val_loss']\n",
        "    val_acc = history.history['val_accuracy']\n",
        "    nb_epoch = len(acc)\n",
        "\n",
        "    with open(result_file, \"w\") as fp:\n",
        "        fp.write(\"epoch\\tloss\\tacc\\tval_loss\\tval_acc\\n\")\n",
        "        for i in range(nb_epoch):\n",
        "            fp.write(\"%d\\t%f\\t%f\\t%f\\t%f\\n\" %\n",
        "                     (i, loss[i], acc[i], val_loss[i], val_acc[i]))\n",
        "\n",
        "save_history(mlp_baseline, 'history.txt')"
      ],
      "execution_count": 18,
      "outputs": []
    },
    {
      "cell_type": "code",
      "metadata": {
        "id": "O6yaotw-8Oqo",
        "outputId": "2d13e00d-be64-422b-ec5b-1bcc54b5d8c2",
        "colab": {
          "base_uri": "https://localhost:8080/",
          "height": 50
        }
      },
      "source": [
        "loss, acc = model.evaluate(x_test, y_test, verbose=0)\n",
        "print('Test loss:', loss)\n",
        "print('Test acc:', acc)"
      ],
      "execution_count": 20,
      "outputs": [
        {
          "output_type": "stream",
          "text": [
            "Test loss: 1.7873324155807495\n",
            "Test acc: 0.3864000141620636\n"
          ],
          "name": "stdout"
        }
      ]
    },
    {
      "cell_type": "code",
      "metadata": {
        "id": "eLm6ni-18Oqs"
      },
      "source": [
        "# save model locally!\n",
        "\n",
        "#mlp_baseline.save('./pretrained_model/mlp_baseline.h5')"
      ],
      "execution_count": null,
      "outputs": []
    },
    {
      "cell_type": "markdown",
      "metadata": {
        "id": "Pj31VVUn8Oqw"
      },
      "source": [
        "### KERAS FUNCTIONAL API"
      ]
    },
    {
      "cell_type": "code",
      "metadata": {
        "id": "HYzjv7Me8Oqw",
        "outputId": "b1b22503-e7a4-46d7-b75a-f1a0112dc363",
        "colab": {
          "base_uri": "https://localhost:8080/",
          "height": 252
        }
      },
      "source": [
        "_inputs = Input(shape=(args.height*args.width*args.channel,))\n",
        "hidden = Dense(512, activation='relu')(_inputs)\n",
        "_output = Dense(10, activation='softmax')(hidden)\n",
        "model = Model(inputs=_inputs, outputs=_output)\n",
        "\n",
        "model.summary()"
      ],
      "execution_count": 21,
      "outputs": [
        {
          "output_type": "stream",
          "text": [
            "Model: \"functional_1\"\n",
            "_________________________________________________________________\n",
            "Layer (type)                 Output Shape              Param #   \n",
            "=================================================================\n",
            "input_1 (InputLayer)         [(None, 3072)]            0         \n",
            "_________________________________________________________________\n",
            "dense_2 (Dense)              (None, 512)               1573376   \n",
            "_________________________________________________________________\n",
            "dense_3 (Dense)              (None, 10)                5130      \n",
            "=================================================================\n",
            "Total params: 1,578,506\n",
            "Trainable params: 1,578,506\n",
            "Non-trainable params: 0\n",
            "_________________________________________________________________\n"
          ],
          "name": "stdout"
        }
      ]
    },
    {
      "cell_type": "markdown",
      "metadata": {
        "id": "cmRPuKha_Pt-"
      },
      "source": [
        "### Which are the next steps?\n",
        "\n",
        "*Are you able to take the above code and re-train our mlp?*"
      ]
    }
  ]
}